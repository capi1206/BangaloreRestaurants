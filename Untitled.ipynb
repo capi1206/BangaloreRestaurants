{
 "cells": [
  {
   "cell_type": "markdown",
   "id": "5d27d866",
   "metadata": {},
   "source": [
    "#### Restaurants in Bangalore\n",
    "##### the goal is to build a model that can predict from the data's features the cost.  "
   ]
  },
  {
   "cell_type": "code",
   "execution_count": 81,
   "id": "2599b2a8",
   "metadata": {},
   "outputs": [],
   "source": [
    "#load the data\n",
    "import pandas as pd\n",
    "df=pd.read_excel('data/bangalore-res.xlsx')\n",
    "#df.columns"
   ]
  },
  {
   "cell_type": "markdown",
   "id": "3fbb594e",
   "metadata": {},
   "source": [
    "##### contains features such as: 'url', 'address', 'lat', 'long', 'name', 'online_order', 'book_table','rate', 'votes', 'phone', 'location', 'rest_type', 'dish_liked','cuisines', 'approx_cost(for two people)', 'reviews_list', 'menu_item','listed_in(type)', 'listed_in(city)', 'service', 'Buffet', 'Cafes', 'Delivery', 'Desserts', 'Dine-out', 'Drinks & nightlife','Pubs and bars'\n",
    "##### the next cells consist of data exploration and getting it in a format ready for a Machine Learning algorithm"
   ]
  },
  {
   "cell_type": "code",
   "execution_count": 82,
   "id": "3fe561b0",
   "metadata": {},
   "outputs": [],
   "source": [
    "#after inspection  the next columns are the ones that contain a yes or no as entries\n",
    "y_n_cols=['Buffet', 'Cafes','online_order', 'book_table',\n",
    "       'Delivery', 'Desserts', 'Dine-out', 'Drinks & nightlife',\n",
    "       'Pubs and bars']\n",
    "#after inspection of the remaining columns the we are keeping the relevant columns, the rest of the columns are categorical\n",
    "#columns with way too many levels and no natural hierarchical structure to encode them\n",
    "# we are constructing df_n from the remaining columns and we are dropping na \n",
    "df_n=df[y_n_cols+['lat', 'long', 'name','listed_in(type)', 'rate', 'votes','approx_cost(for two people)']].dropna()\n",
    "#transform yes no columns\n",
    "for y in y_n_cols:\n",
    "    df_n[y]=df_n[y].apply(lambda x: 1 if 'es' in x else 0)   \n",
    "df_n=df_n[df_n['rate']!='NEW']\n",
    "df_n=df_n[df_n['rate']!='-']\n",
    "#modify the rate to a float\n",
    "df_n['rt']=df_n['rate'].apply(lambda x : float(x.split('/')[0]))\n",
    "#scale numerical variables\n",
    "df_n['rt']=df_n['rt']/5\n",
    "mx=df_n['votes'].max()\n",
    "df_n['votes']=df_n['votes']/mx"
   ]
  },
  {
   "cell_type": "markdown",
   "id": "65efad3c",
   "metadata": {},
   "source": [
    "##### the following cell performs one hot encofing in the variable that contains type of restaurant, the other categorical variables have too many levels"
   ]
  },
  {
   "cell_type": "code",
   "execution_count": 83,
   "id": "fcf1959f",
   "metadata": {},
   "outputs": [],
   "source": [
    "encoded_df = pd.get_dummies(df_n['listed_in(type)'], prefix='type')\n",
    "df_nml = pd.concat([df_n, encoded_df], axis=1)\n",
    "df_nml = df_nml.drop(columns=['listed_in(type)', 'rate'])\n",
    "#changes onhe hot encoded vatiables to numbers\n",
    "for y in df_nml.columns:\n",
    "    if 'type_' in y:\n",
    "        df_nml.replace({True :1,False :0})"
   ]
  },
  {
   "cell_type": "markdown",
   "id": "eb4534a5",
   "metadata": {},
   "source": [
    "###### The next cells evaluate the performance of a regression over the whole set of data points"
   ]
  },
  {
   "cell_type": "code",
   "execution_count": 87,
   "id": "4a40e91b",
   "metadata": {},
   "outputs": [
    {
     "name": "stdout",
     "output_type": "stream",
     "text": [
      "Best Parameters: {'max_depth': 10, 'min_samples_leaf': 4, 'min_samples_split': 10, 'n_estimators': 300}\n",
      "Best Score: -38628.006020944216\n",
      "Test Score: 0.27963684184087423\n"
     ]
    }
   ],
   "source": [
    "from sklearn.ensemble import RandomForestRegressor\n",
    "from sklearn.model_selection import GridSearchCV\n",
    "from sklearn.datasets import make_regression\n",
    "from sklearn.model_selection import train_test_split\n",
    "\n",
    "X, y=df_nml.drop(columns=['lat', 'long','name', 'approx_cost(for two people)']), df_nml['approx_cost(for two people)']\n",
    "X_train, X_test, y_train, y_test = train_test_split(X,y, test_size=0.2, random_state=42)\n",
    "\n",
    "rf = RandomForestRegressor()\n",
    "\n",
    "param_grid = {\n",
    "    'n_estimators': [100, 200, 300],\n",
    "    'max_depth': [None, 5, 10, 15],\n",
    "    'min_samples_split': [2, 5, 10],\n",
    "    'min_samples_leaf': [1, 2, 4]\n",
    "}\n",
    "\n",
    "grid_search = GridSearchCV(estimator=rf, param_grid=param_grid, cv=3, scoring='neg_mean_squared_error')\n",
    "\n",
    "grid_search.fit(X_train, y_train)\n",
    "\n",
    "best_params = grid_search.best_params_\n",
    "best_score = grid_search.best_score_\n",
    "\n",
    "print(\"Best Parameters:\", best_params)\n",
    "print(\"Best Score:\", best_score)\n",
    "\n",
    "best_model = grid_search.best_estimator_\n",
    "test_score = best_model.score(X_test, y_test)\n",
    "print(\"Test Score:\", test_score)"
   ]
  },
  {
   "cell_type": "markdown",
   "id": "6245c73b",
   "metadata": {},
   "source": [
    "##### with grid search the following parameters are obtained the score is negative Mean squared      Best Parameters: {'max_depth': 10, 'min_samples_leaf': 4, 'min_samples_split': 10, 'n_estimators': 300} Best Score: -38628.006020944216 Test Score: 0.27963684184087423"
   ]
  },
  {
   "cell_type": "code",
   "execution_count": 90,
   "id": "880ffe0f",
   "metadata": {},
   "outputs": [
    {
     "name": "stderr",
     "output_type": "stream",
     "text": [
      "c:\\Users\\carlo\\anaconda3\\lib\\site-packages\\sklearn\\linear_model\\_coordinate_descent.py:628: ConvergenceWarning: Objective did not converge. You might want to increase the number of iterations, check the scale of the features or consider increasing regularisation. Duality gap: 9.930e+06, tolerance: 1.697e+04\n",
      "  model = cd_fast.enet_coordinate_descent(\n",
      "c:\\Users\\carlo\\anaconda3\\lib\\site-packages\\sklearn\\linear_model\\_coordinate_descent.py:628: ConvergenceWarning: Objective did not converge. You might want to increase the number of iterations, check the scale of the features or consider increasing regularisation. Duality gap: 1.095e+06, tolerance: 1.716e+04\n",
      "  model = cd_fast.enet_coordinate_descent(\n"
     ]
    },
    {
     "name": "stdout",
     "output_type": "stream",
     "text": [
      "Best Parameters: {'alpha': 0.1}\n",
      "Best Score: -40998.12457015596\n",
      "Test Score: 0.2277690305623018\n"
     ]
    }
   ],
   "source": [
    "#grid search with Lasso regression\n",
    "from sklearn.datasets import make_regression\n",
    "from sklearn.model_selection import train_test_split\n",
    "from sklearn.linear_model import Lasso\n",
    "from sklearn.model_selection import GridSearchCV\n",
    "\n",
    "X_train, X_test, y_train, y_test = train_test_split(X, y, test_size=0.2, random_state=42)\n",
    "\n",
    "lasso = Lasso()\n",
    "\n",
    "param_grid = {\n",
    "    'alpha': [0.001, 0.01, 0.1, 1, 10, 100],  # Regularization parameter\n",
    "}\n",
    "\n",
    "grid_search = GridSearchCV(estimator=lasso, param_grid=param_grid, cv=3, scoring='neg_mean_squared_error')\n",
    "\n",
    "# Fit the grid search to find the best hyperparameters using training data\n",
    "grid_search.fit(X_train, y_train)\n",
    "\n",
    "best_params = grid_search.best_params_\n",
    "best_score = grid_search.best_score_\n",
    "\n",
    "print(\"Best Parameters:\", best_params)\n",
    "print(\"Best Score:\", best_score)\n",
    "\n",
    "# Evaluate the model on the test set\n",
    "best_model = grid_search.best_estimator_\n",
    "test_score = best_model.score(X_test, y_test)\n",
    "print(\"Test Score:\", test_score)"
   ]
  },
  {
   "cell_type": "markdown",
   "id": "7738df9e",
   "metadata": {},
   "source": [
    "##### with Lasso regression Best Parameters: {'alpha': 0.1} Best Score: -40998.12457015596 Test Score: 0.2277690305623018"
   ]
  },
  {
   "cell_type": "markdown",
   "id": "18337a0d",
   "metadata": {},
   "source": [
    "##### In the following cells we will perform feature engineering on the variables, we will create a new group of variables that measures how a previous variable is related to the target value (appor_cost) and from these new variables we create groups using K-means to determine if we could split the data into groups and for each group we create a regression model to predict the cost"
   ]
  },
  {
   "cell_type": "code",
   "execution_count": 91,
   "id": "b5dd0e78",
   "metadata": {},
   "outputs": [],
   "source": [
    "import numpy as np\n",
    "#compute the mean cost and for each restaurant we create a variable telling if the cost is above or below the average cost\n",
    "cols_eval=['Buffet', 'Cafes', 'online_order', 'book_table', 'Delivery', 'Desserts',\n",
    "       'Dine-out', 'Drinks & nightlife', 'Pubs and bars','type_Buffet',\n",
    "       'type_Cafes', 'type_Delivery', 'type_Desserts', 'type_Dine-out',\n",
    "       'type_Drinks & nightlife', 'type_Pubs and bars']\n",
    "\n",
    "m_cost=df_nml['approx_cost(for two people)'].mean()\n",
    "df_nml['sc_cost']=df_nml['approx_cost(for two people)'].apply(lambda x: 1 if x >m_cost else -1 if x <m_cost else 0)\n",
    "def sc_col(column):\n",
    "    m_cost=df_nml[column].mean()\n",
    "    df_nml['sc_'+column]=df_nml[column].apply(lambda x: 1 if x >m_cost else -1 if x <m_cost else 0)\n",
    "sc_col('votes')\n",
    "sc_col('rt')   \n",
    "\n",
    "##these new modified columns tell if a variable is potively or negatively realted to the cost being above or below the average cost\n",
    "\n",
    "for y in cols_eval:\n",
    "    sign_comparison = np.sign(df_nml['sc_cost'] * (df_nml[y] - 0.5))\n",
    "    df_nml['new_' + y] = np.where(sign_comparison > 0, 1, -1)\n",
    "sign_comparison = np.sign(df_nml['sc_cost'] * df_nml['sc_votes'])    \n",
    "df_nml['new_votes']=np.where(sign_comparison > 0, 1, -1)\n",
    "sign_comparison = np.sign(df_nml['sc_cost'] * df_nml['sc_rt'])  \n",
    "df_nml['new_rt']=np.where(sign_comparison > 0, 1, -1)"
   ]
  },
  {
   "cell_type": "code",
   "execution_count": 94,
   "id": "0ca52097",
   "metadata": {},
   "outputs": [
    {
     "data": {
      "image/png": "[encoded data removed]",
      "text/plain": [
       "<Figure size 800x600 with 1 Axes>"
      ]
     },
     "metadata": {},
     "output_type": "display_data"
    }
   ],
   "source": [
    "\n",
    "import pandas as pd\n",
    "import matplotlib.pyplot as plt\n",
    "from sklearn.cluster import KMeans\n",
    "from sklearn.datasets import make_blobs\n",
    "##here we use the newly created variables to generate clusters\n",
    "new_cols=[y for y in df_nml.columns if 'new_' in y]\n",
    "df_cl=df_nml[new_cols]\n",
    "wcss = []  \n",
    "for i in range(1, 11):\n",
    "    kmeans = KMeans(n_clusters=i, init='k-means++', max_iter=300, n_init=10, random_state=42)\n",
    "    kmeans.fit(df_cl)\n",
    "    wcss.append(kmeans.inertia_)  # inertia_ contains WCSS value for an instance of KMeans\n",
    "\n",
    "plt.figure(figsize=(8, 6))\n",
    "plt.plot(range(1, 11), wcss, marker='o', linestyle='--')\n",
    "plt.xlabel('Number of Clusters (k)')\n",
    "plt.ylabel('Within-Cluster Sum of Squares (WCSS)')\n",
    "plt.title('Elbow Method for Optimal k')\n",
    "plt.grid()\n",
    "plt.show()"
   ]
  },
  {
   "cell_type": "code",
   "execution_count": 101,
   "id": "f1c4a637",
   "metadata": {},
   "outputs": [
    {
     "name": "stderr",
     "output_type": "stream",
     "text": [
      "c:\\Users\\carlo\\anaconda3\\lib\\site-packages\\sklearn\\cluster\\_kmeans.py:1416: FutureWarning: The default value of `n_init` will change from 10 to 'auto' in 1.4. Set the value of `n_init` explicitly to suppress the warning\n",
      "  super()._check_params_vs_input(X, default_n_init=10)\n"
     ]
    }
   ],
   "source": [
    "#with the elbow method it is clear that we have two clusters\n",
    "kmeans = KMeans(n_clusters=2, random_state=42)\n",
    "df_nml['cluster'] = kmeans.fit_predict(df_cl)\n",
    "df_new=df_nml.drop(columns=new_cols +['cluster','cluster2','lat', 'long',\n",
    "       'name'])\n",
    "df_0=df_new[df_nml['cluster']==0] \n",
    "df_1=df_new[df_nml['cluster']==1] "
   ]
  },
  {
   "cell_type": "code",
   "execution_count": 121,
   "id": "85caa34c",
   "metadata": {},
   "outputs": [
    {
     "name": "stdout",
     "output_type": "stream",
     "text": [
      "Test Mean Squared Error for model 0: 6198.663812024109\n",
      "Test Mean Squared Error for model 1: 17540.957214558264\n"
     ]
    }
   ],
   "source": [
    "from sklearn.ensemble import RandomForestRegressor\n",
    "from sklearn.metrics import mean_squared_error\n",
    "hyperparameters = {'max_depth': 15, 'min_samples_leaf': 1, 'min_samples_split': 5, 'n_estimators': 200}\n",
    "\n",
    "\n",
    "X_tr0, X_ts0, y_tr0, y_ts0 = train_test_split(df_0.drop(columns=['approx_cost(for two people)', 'sc_cost', 'sc_votes',\n",
    "       'sc_rt']), df_0['approx_cost(for two people)'], \n",
    "                                              test_size=0.2, random_state=42)\n",
    "X_tr1, X_ts1, y_tr1, y_ts1 = train_test_split(df_1.drop(columns=['approx_cost(for two people)','sc_cost', 'sc_votes',\n",
    "       'sc_rt']), df_1['approx_cost(for two people)'], \n",
    "                                              test_size=0.2, random_state=42)\n",
    "rf0 = RandomForestRegressor(**hyperparameters)\n",
    "rf1 = RandomForestRegressor(**hyperparameters)\n",
    "rf0.fit(X_tr0, y_tr0)\n",
    "rf1.fit(X_tr1, y_tr1)\n",
    "\n",
    "\n",
    "y_pred0 = rf0.predict(X_ts0)\n",
    "y_pred1 = rf1.predict(X_ts1)\n",
    "mse0 = mean_squared_error(y_ts0, y_pred0)\n",
    "mse1 = mean_squared_error(y_ts1, y_pred1)\n",
    "print(\"Test Mean Squared Error for model 0:\", mse0)\n",
    "print(\"Test Mean Squared Error for model 1:\", mse1)"
   ]
  },
  {
   "cell_type": "markdown",
   "id": "6bbd6e94",
   "metadata": {},
   "source": [
    "##### using clusters an a model per cluster (2 clusters) the means squared error reduced from 38000 approx to 6000 approx"
   ]
  },
  {
   "cell_type": "code",
   "execution_count": null,
   "id": "3e97a070",
   "metadata": {},
   "outputs": [],
   "source": [
    "##this cell is to predict which cluster and therefore which model should be appliead to a data measurement\n",
    "##using knearest neighbours with k=7\n",
    "from sklearn.neighbors import NearestNeighbors\n",
    "\n",
    "X = pd.concat([df_0, df_1])\n",
    "X=X.drop(columns=['sc_cost', 'sc_votes','sc_rt', 'approx_cost(for two people)'])\n",
    "X_tr, X_tst=train_test_split(X.drop(columns=['cluster']), test_size=0.2, random_state=42)\n",
    "knn = NearestNeighbors(n_neighbors=7)\n",
    "knn.fit(X_tr)\n",
    "\n",
    "for idx, test_point in X_tst.iterrows():\n",
    "    distances, indices = knn.kneighbors(test_point.values.reshape(1, -1))\n",
    "    neighbor_clusters = X.iloc[indices[0]]['cluster']\n",
    "    cluster_counts = neighbor_clusters.value_counts()\n",
    "    majority_cluster = cluster_counts.idxmax()\n",
    "    \n",
    "    # Add the predicted cluster to X_tst as a new column 'predicted_cluster'\n",
    "    X_tst.loc[idx, 'pred_cluster'] = majority_cluster"
   ]
  },
  {
   "cell_type": "code",
   "execution_count": 124,
   "id": "5f915da6",
   "metadata": {},
   "outputs": [
    {
     "data": {
      "text/plain": [
       "0"
      ]
     },
     "execution_count": 124,
     "metadata": {},
     "output_type": "execute_result"
    }
   ],
   "source": [
    "\n",
    "##this line shows that the predicted clusters usinf k nearest neighbors do agree with the actual clusters\n",
    "len(X_tst) - len(X_tst[X_tst.pred_cluster==X_tst.cluster])"
   ]
  },
  {
   "cell_type": "code",
   "execution_count": 112,
   "id": "fc721f6a",
   "metadata": {},
   "outputs": [
    {
     "name": "stdout",
     "output_type": "stream",
     "text": [
      "Best Parameters: {'max_depth': 10, 'min_samples_leaf': 1, 'min_samples_split': 10, 'n_estimators': 100}\n",
      "Best Score: -5776.509024926313\n",
      "Test Score: 0.6302125599741955\n"
     ]
    }
   ],
   "source": [
    "from sklearn.ensemble import RandomForestRegressor\n",
    "from sklearn.model_selection import GridSearchCV\n",
    "from sklearn.datasets import make_regression\n",
    "from sklearn.model_selection import train_test_split\n",
    "\n",
    "X, y=df_0.drop(columns=['sc_cost', 'sc_votes','sc_rt','approx_cost(for two people)']), df_0['approx_cost(for two people)']\n",
    "X_train, X_test, y_train, y_test = train_test_split(X,y, test_size=0.2, random_state=42)\n",
    "\n",
    "rf = RandomForestRegressor()\n",
    "\n",
    "param_grid = {\n",
    "    'n_estimators': [100, 200, 300],\n",
    "    'max_depth': [None, 5, 10, 15],\n",
    "    'min_samples_split': [2, 5, 10],\n",
    "    'min_samples_leaf': [1, 2, 4]\n",
    "}\n",
    "\n",
    "grid_search = GridSearchCV(estimator=rf, param_grid=param_grid, cv=3, scoring='neg_mean_squared_error')\n",
    "\n",
    "grid_search.fit(X_train, y_train)\n",
    "\n",
    "best_params = grid_search.best_params_\n",
    "best_score = grid_search.best_score_\n",
    "\n",
    "print(\"Best Parameters:\", best_params)\n",
    "print(\"Best Score:\", best_score)\n",
    "\n",
    "best_model = grid_search.best_estimator_\n",
    "test_score = best_model.score(X_test, y_test)\n",
    "print(\"Test Score:\", test_score)"
   ]
  },
  {
   "cell_type": "code",
   "execution_count": 114,
   "id": "ca28b321",
   "metadata": {},
   "outputs": [
    {
     "name": "stdout",
     "output_type": "stream",
     "text": [
      "Best Parameters: {'C': 10, 'gamma': 'scale', 'kernel': 'rbf'}\n",
      "Best Score: -17900.037339049406\n",
      "Test Mean Squared Error: 18230.994601903494\n"
     ]
    }
   ],
   "source": [
    "from sklearn.datasets import make_regression\n",
    "from sklearn.model_selection import train_test_split\n",
    "from sklearn.svm import SVR\n",
    "from sklearn.model_selection import GridSearchCV\n",
    "from sklearn.metrics import mean_squared_error\n",
    "\n",
    "X_train, X_test, y_train, y_test = train_test_split(df_1.drop(columns=['sc_cost', 'sc_votes','sc_rt','approx_cost(for two people)']), df_1['approx_cost(for two people)'], test_size=0.2, random_state=42)\n",
    "\n",
    "svr = SVR()\n",
    "param_grid = {\n",
    "    'kernel': ['linear', 'rbf'],  # Different types of kernels\n",
    "    'C': [0.1, 1, 10],  # Regularization parameter\n",
    "    'gamma': ['scale', 'auto']  # Kernel coefficient for 'rbf' kernel\n",
    "}\n",
    "\n",
    "# Instantiate GridSearchCV\n",
    "grid_search = GridSearchCV(estimator=svr, param_grid=param_grid, cv=3, scoring='neg_mean_squared_error')\n",
    "\n",
    "grid_search.fit(X_train, y_train)\n",
    "\n",
    "# Get the best parameters and the best score\n",
    "best_params = grid_search.best_params_\n",
    "best_score = grid_search.best_score_\n",
    "\n",
    "print(\"Best Parameters:\", best_params)\n",
    "print(\"Best Score:\", best_score)\n",
    "\n",
    "# Evaluate the best model on the test set\n",
    "best_model = grid_search.best_estimator_\n",
    "y_pred = best_model.predict(X_test)\n",
    "mse = mean_squared_error(y_test, y_pred)\n",
    "print(\"Test Mean Squared Error:\", mse)"
   ]
  },
  {
   "cell_type": "code",
   "execution_count": null,
   "id": "d535619b",
   "metadata": {},
   "outputs": [],
   "source": [
    "df_nml.loc[df_nml['name'] == 'Andhra Grills', 'lat'] = 12.941675\n"
   ]
  },
  {
   "cell_type": "code",
   "execution_count": null,
   "id": "a04a97c0",
   "metadata": {},
   "outputs": [],
   "source": [
    "##this cell produces a html depicting the two clusters in the map\n",
    "import pandas as pd\n",
    "import folium\n",
    "from branca.colormap import LinearColormap\n",
    "\n",
    "#df_nn['n_cost'] = (df_nn['approx_cost(for two people)'] - df_nn['approx_cost(for two people)'].min()) / (df_nn['approx_cost(for two people)'].max() - df_nn['approx_cost(for two people)'].min())\n",
    "\n",
    "bangalore_map = folium.Map(location=[12.9716, 77.5946], zoom_start=12, tiles=\"Cartodb dark_matter\")\n",
    "\n",
    "colormap = LinearColormap(['white', 'red'], vmin=0, vmax=1).to_step(index=[0,0.1,0.2, 0.3,0.4,0.5,0.6,0.7,0.8,0.9, 1])\n",
    "\n",
    "# Plot data points on the map\n",
    "for index, row in df_nml.iterrows():\n",
    "    folium.CircleMarker(\n",
    "        location=[row['lat'], row['long']],\n",
    "        radius=5,\n",
    "        color=colormap(row['cluster']),\n",
    "        fill=True,\n",
    "        fill_color=colormap(row['cluster']),\n",
    "        fill_opacity=0.7,\n",
    "        popup=f'Cost: {row[\"cluster\"]}'\n",
    "    ).add_to(bangalore_map)\n",
    "\n",
    "# Add the colormap to the map\n",
    "colormap.caption = 'Cost Intensity'\n",
    "bangalore_map.add_child(colormap)\n",
    "\n",
    "# Save the map as an HTML file or display it in the notebook\n",
    "bangalore_map.save('bangalore_map.html')"
   ]
  }
 ],
 "metadata": {
  "kernelspec": {
   "display_name": "Python 3 (ipykernel)",
   "language": "python",
   "name": "python3"
  },
  "language_info": {
   "codemirror_mode": {
    "name": "ipython",
    "version": 3
   },
   "file_extension": ".py",
   "mimetype": "text/x-python",
   "name": "python",
   "nbconvert_exporter": "python",
   "pygments_lexer": "ipython3",
   "version": "3.9.18"
  }
 },
 "nbformat": 4,
 "nbformat_minor": 5
}
